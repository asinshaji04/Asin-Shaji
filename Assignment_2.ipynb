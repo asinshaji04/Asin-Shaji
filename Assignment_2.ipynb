{
  "nbformat": 4,
  "nbformat_minor": 0,
  "metadata": {
    "colab": {
      "provenance": []
    },
    "kernelspec": {
      "name": "python3",
      "display_name": "Python 3"
    },
    "language_info": {
      "name": "python"
    }
  },
  "cells": [
    {
      "cell_type": "markdown",
      "source": [
        "1. Create a NumPy array of integers from 1 to 10"
      ],
      "metadata": {
        "id": "0j-SBy9ko7O-"
      }
    },
    {
      "cell_type": "code",
      "source": [
        "import numpy as np"
      ],
      "metadata": {
        "id": "HlkbfgJupA4E"
      },
      "execution_count": null,
      "outputs": []
    },
    {
      "cell_type": "code",
      "source": [
        "arr1=np.arange(1,11)"
      ],
      "metadata": {
        "id": "rJf-UMrNpMRX"
      },
      "execution_count": null,
      "outputs": []
    },
    {
      "cell_type": "code",
      "source": [
        "arr1\n"
      ],
      "metadata": {
        "colab": {
          "base_uri": "https://localhost:8080/"
        },
        "id": "aqF2eF-SpNYd",
        "outputId": "2b40069e-e766-40dd-f8ce-31ce7e7f14e7"
      },
      "execution_count": null,
      "outputs": [
        {
          "output_type": "execute_result",
          "data": {
            "text/plain": [
              "array([ 1,  2,  3,  4,  5,  6,  7,  8,  9, 10])"
            ]
          },
          "metadata": {},
          "execution_count": 6
        }
      ]
    },
    {
      "cell_type": "markdown",
      "source": [
        "2. Create a 2x3 NumPy array filled with zeros"
      ],
      "metadata": {
        "id": "wuc5eFFApstE"
      }
    },
    {
      "cell_type": "code",
      "source": [
        "arr2=np.zeros((2,3))"
      ],
      "metadata": {
        "id": "worrrPg5pv6d"
      },
      "execution_count": null,
      "outputs": []
    },
    {
      "cell_type": "code",
      "source": [
        "arr2"
      ],
      "metadata": {
        "colab": {
          "base_uri": "https://localhost:8080/"
        },
        "id": "j9QxKWwRp36M",
        "outputId": "c24bb503-8b44-4a8f-c4bc-f78e9f2b26bc"
      },
      "execution_count": null,
      "outputs": [
        {
          "output_type": "execute_result",
          "data": {
            "text/plain": [
              "array([[0., 0., 0.],\n",
              "       [0., 0., 0.]])"
            ]
          },
          "metadata": {},
          "execution_count": 9
        }
      ]
    },
    {
      "cell_type": "markdown",
      "source": [
        "3. Create a NumPy array of even numbers from 2 to 20."
      ],
      "metadata": {
        "id": "HQcHsKlAqEAb"
      }
    },
    {
      "cell_type": "code",
      "source": [
        "arr3=np.arange(2,21,2)"
      ],
      "metadata": {
        "id": "arthq7XzqGhC"
      },
      "execution_count": null,
      "outputs": []
    },
    {
      "cell_type": "code",
      "source": [
        "arr3"
      ],
      "metadata": {
        "colab": {
          "base_uri": "https://localhost:8080/"
        },
        "id": "OK3gkfKjqQfX",
        "outputId": "636ce123-cd6e-4ea8-c216-c6aba51983c2"
      },
      "execution_count": null,
      "outputs": [
        {
          "output_type": "execute_result",
          "data": {
            "text/plain": [
              "array([ 2,  4,  6,  8, 10, 12, 14, 16, 18, 20])"
            ]
          },
          "metadata": {},
          "execution_count": 11
        }
      ]
    },
    {
      "cell_type": "markdown",
      "source": [
        "4. Given two NumPy arrays, arr1 = np.array([1, 2, 3]) and arr2 = np.array([4,\n",
        "5, 6]), perform element-wise addition, subtraction, multiplication, and\n",
        "division between the two array"
      ],
      "metadata": {
        "id": "e-cH2Fwnqc3t"
      }
    },
    {
      "cell_type": "code",
      "source": [
        "arr1 = np.array([1, 2, 3])\n",
        "arr2 = np.array([4, 5, 6])\n",
        "\n",
        "\n"
      ],
      "metadata": {
        "id": "-mbkNjXxqfIU"
      },
      "execution_count": null,
      "outputs": []
    },
    {
      "cell_type": "code",
      "source": [
        "arr1+arr2"
      ],
      "metadata": {
        "colab": {
          "base_uri": "https://localhost:8080/"
        },
        "id": "tu9wfqS1q4Kb",
        "outputId": "5aa2a573-cc97-4201-92a4-04d8a01596ea"
      },
      "execution_count": null,
      "outputs": [
        {
          "output_type": "execute_result",
          "data": {
            "text/plain": [
              "array([5, 7, 9])"
            ]
          },
          "metadata": {},
          "execution_count": 13
        }
      ]
    },
    {
      "cell_type": "code",
      "source": [
        "arr2-arr1"
      ],
      "metadata": {
        "colab": {
          "base_uri": "https://localhost:8080/"
        },
        "id": "zVhlg3ljq6kc",
        "outputId": "8b8d8e52-92cb-4a09-89c5-813bf0f681b2"
      },
      "execution_count": null,
      "outputs": [
        {
          "output_type": "execute_result",
          "data": {
            "text/plain": [
              "array([3, 3, 3])"
            ]
          },
          "metadata": {},
          "execution_count": 14
        }
      ]
    },
    {
      "cell_type": "code",
      "source": [
        "arr1-arr2"
      ],
      "metadata": {
        "colab": {
          "base_uri": "https://localhost:8080/"
        },
        "id": "3aLWRt48q9Us",
        "outputId": "6e0403dd-9336-4f26-8c84-2b0b949eff42"
      },
      "execution_count": null,
      "outputs": [
        {
          "output_type": "execute_result",
          "data": {
            "text/plain": [
              "array([-3, -3, -3])"
            ]
          },
          "metadata": {},
          "execution_count": 15
        }
      ]
    },
    {
      "cell_type": "code",
      "source": [
        "arr1*arr2"
      ],
      "metadata": {
        "colab": {
          "base_uri": "https://localhost:8080/"
        },
        "id": "hbrtJrj9q_tM",
        "outputId": "e7a8314b-46ed-42b5-ce4e-7b1ce111b78d"
      },
      "execution_count": null,
      "outputs": [
        {
          "output_type": "execute_result",
          "data": {
            "text/plain": [
              "array([ 4, 10, 18])"
            ]
          },
          "metadata": {},
          "execution_count": 16
        }
      ]
    },
    {
      "cell_type": "code",
      "source": [
        "arr1/arr2"
      ],
      "metadata": {
        "colab": {
          "base_uri": "https://localhost:8080/"
        },
        "id": "ZEwxsPfqrE5s",
        "outputId": "a8b98e60-8a4b-4467-e4f4-82dcf73df8df"
      },
      "execution_count": null,
      "outputs": [
        {
          "output_type": "execute_result",
          "data": {
            "text/plain": [
              "array([0.25, 0.4 , 0.5 ])"
            ]
          },
          "metadata": {},
          "execution_count": 17
        }
      ]
    },
    {
      "cell_type": "markdown",
      "source": [
        "5. Compute the mean, median, and standard deviation of a NumPy array\n",
        "containing 100 random numbers."
      ],
      "metadata": {
        "id": "0soUQng8rPzR"
      }
    },
    {
      "cell_type": "code",
      "source": [
        "arr3=np.random.randint(0,100,100)"
      ],
      "metadata": {
        "id": "Aw4G-H2LrWaz"
      },
      "execution_count": null,
      "outputs": []
    },
    {
      "cell_type": "code",
      "source": [
        "arr3"
      ],
      "metadata": {
        "colab": {
          "base_uri": "https://localhost:8080/"
        },
        "id": "cJex7eMJrimM",
        "outputId": "8ffa6c64-f445-4b68-a472-f3135696a89a"
      },
      "execution_count": null,
      "outputs": [
        {
          "output_type": "execute_result",
          "data": {
            "text/plain": [
              "array([29, 95,  0,  1, 94, 44, 49, 86, 60, 39, 95, 90, 12, 37, 21, 10, 51,\n",
              "       92, 96, 18, 30, 74, 85, 56, 82, 72, 81, 78, 78, 64, 19, 29, 71, 46,\n",
              "       64, 34, 42, 90, 53, 52, 31, 35, 41,  2, 84, 30, 72, 69, 18, 48, 11,\n",
              "       81, 53, 22, 88, 93,  8, 15, 67, 60, 64, 97, 88, 77,  5,  4, 38,  8,\n",
              "       95, 99, 12,  8, 50, 60, 73,  8, 30, 69, 18, 71, 77,  1, 20, 76, 64,\n",
              "       75, 29, 71, 43, 83, 78, 51, 63, 44,  0, 16, 69, 64, 49, 40])"
            ]
          },
          "metadata": {},
          "execution_count": 43
        }
      ]
    },
    {
      "cell_type": "code",
      "source": [
        "arr3.mean()"
      ],
      "metadata": {
        "colab": {
          "base_uri": "https://localhost:8080/"
        },
        "id": "vYbeab0Prjsb",
        "outputId": "a349ea6f-8dc8-4cea-e4be-f4431fc86fba"
      },
      "execution_count": null,
      "outputs": [
        {
          "output_type": "execute_result",
          "data": {
            "text/plain": [
              "51.34"
            ]
          },
          "metadata": {},
          "execution_count": 44
        }
      ]
    },
    {
      "cell_type": "code",
      "source": [
        "median=np.median(arr3)\n",
        "print(median)"
      ],
      "metadata": {
        "colab": {
          "base_uri": "https://localhost:8080/"
        },
        "id": "_40kPigIsR9D",
        "outputId": "dccd3020-3d38-4a4e-c859-b075bc42080a"
      },
      "execution_count": null,
      "outputs": [
        {
          "output_type": "stream",
          "name": "stdout",
          "text": [
            "52.5\n"
          ]
        }
      ]
    },
    {
      "cell_type": "code",
      "source": [
        "std_dev=np.std(arr3)\n",
        "print(std_dev)"
      ],
      "metadata": {
        "id": "qXmHAhPfsfaq",
        "colab": {
          "base_uri": "https://localhost:8080/"
        },
        "outputId": "7163e604-c2d3-4194-ae59-4ae26aacd6ad"
      },
      "execution_count": null,
      "outputs": [
        {
          "output_type": "stream",
          "name": "stdout",
          "text": [
            "29.29102934346965\n"
          ]
        }
      ]
    },
    {
      "cell_type": "markdown",
      "source": [
        "6. Reshape a 1D NumPy array of 12 random elements into a 2D array with a\n",
        "shape of (3, 4)."
      ],
      "metadata": {
        "id": "HqJMft3jsgJT"
      }
    },
    {
      "cell_type": "code",
      "source": [
        "arr4=np.random.randint(0,20,12)"
      ],
      "metadata": {
        "id": "8CLQkP3Tsp9j"
      },
      "execution_count": null,
      "outputs": []
    },
    {
      "cell_type": "code",
      "source": [
        "arr4"
      ],
      "metadata": {
        "colab": {
          "base_uri": "https://localhost:8080/"
        },
        "id": "bD7dtLk3s0yL",
        "outputId": "99d30cbd-4553-4855-bbd1-ee121ca092ed"
      },
      "execution_count": null,
      "outputs": [
        {
          "output_type": "execute_result",
          "data": {
            "text/plain": [
              "array([18,  3,  7,  8,  2,  4, 10, 19, 11, 13,  2, 16])"
            ]
          },
          "metadata": {},
          "execution_count": 32
        }
      ]
    },
    {
      "cell_type": "code",
      "source": [
        "arr4.reshape(3,4)"
      ],
      "metadata": {
        "colab": {
          "base_uri": "https://localhost:8080/"
        },
        "id": "CPBCL5sGs1i6",
        "outputId": "36cb114c-117a-459a-d347-970eca8dd76c"
      },
      "execution_count": null,
      "outputs": [
        {
          "output_type": "execute_result",
          "data": {
            "text/plain": [
              "array([[18,  3,  7,  8],\n",
              "       [ 2,  4, 10, 19],\n",
              "       [11, 13,  2, 16]])"
            ]
          },
          "metadata": {},
          "execution_count": 33
        }
      ]
    },
    {
      "cell_type": "markdown",
      "source": [
        "7. Given a NumPy array arr = np.array([1, 2, 3, 4, 5]), square each element in\n",
        "the array using NumPy functions."
      ],
      "metadata": {
        "id": "NtWnjrVitLCz"
      }
    },
    {
      "cell_type": "code",
      "source": [
        " arr = np.array([1, 2, 3, 4, 5])\n"
      ],
      "metadata": {
        "id": "GsHizwB2tS-4"
      },
      "execution_count": null,
      "outputs": []
    },
    {
      "cell_type": "code",
      "source": [
        "np.sqrt(arr)"
      ],
      "metadata": {
        "colab": {
          "base_uri": "https://localhost:8080/"
        },
        "id": "_EybCWCqtlr6",
        "outputId": "7e00ab35-3e17-415f-cf02-b220435e7aab"
      },
      "execution_count": null,
      "outputs": [
        {
          "output_type": "execute_result",
          "data": {
            "text/plain": [
              "array([1.        , 1.41421356, 1.73205081, 2.        , 2.23606798])"
            ]
          },
          "metadata": {},
          "execution_count": 40
        }
      ]
    },
    {
      "cell_type": "code",
      "source": [],
      "metadata": {
        "id": "rTOqc7e0tqKE"
      },
      "execution_count": null,
      "outputs": []
    },
    {
      "cell_type": "markdown",
      "source": [
        "8. Create a 5x5 identity matrix using NumPy."
      ],
      "metadata": {
        "id": "efbVDkr6trFU"
      }
    },
    {
      "cell_type": "code",
      "source": [
        "arr5=np.eye(5,5)"
      ],
      "metadata": {
        "id": "j6JnvV79tubc"
      },
      "execution_count": null,
      "outputs": []
    },
    {
      "cell_type": "code",
      "source": [
        "arr5\n"
      ],
      "metadata": {
        "colab": {
          "base_uri": "https://localhost:8080/"
        },
        "id": "yJpQNGQ_t1SD",
        "outputId": "9cee40c6-b85f-4eb7-85c8-7564b3134ccd"
      },
      "execution_count": null,
      "outputs": [
        {
          "output_type": "execute_result",
          "data": {
            "text/plain": [
              "array([[1., 0., 0., 0., 0.],\n",
              "       [0., 1., 0., 0., 0.],\n",
              "       [0., 0., 1., 0., 0.],\n",
              "       [0., 0., 0., 1., 0.],\n",
              "       [0., 0., 0., 0., 1.]])"
            ]
          },
          "metadata": {},
          "execution_count": 45
        }
      ]
    },
    {
      "cell_type": "markdown",
      "source": [
        "9. Calculate the dot product of two NumPy arrays, a = np.array([1, 2, 3]) and\n",
        "b = np.array([4, 5, 6]"
      ],
      "metadata": {
        "id": "SNlJfBLrt-_Y"
      }
    },
    {
      "cell_type": "code",
      "source": [
        " a = np.array([1, 2, 3])\n",
        " b = np.array([4, 5, 6])\n"
      ],
      "metadata": {
        "id": "GWltlmY6t2sz"
      },
      "execution_count": null,
      "outputs": []
    },
    {
      "cell_type": "code",
      "source": [
        "a*b"
      ],
      "metadata": {
        "colab": {
          "base_uri": "https://localhost:8080/"
        },
        "id": "ifG3tXBTuP7C",
        "outputId": "996c6627-aab7-4cfd-b89a-f0d4f01f5436"
      },
      "execution_count": null,
      "outputs": [
        {
          "output_type": "execute_result",
          "data": {
            "text/plain": [
              "array([ 4, 10, 18])"
            ]
          },
          "metadata": {},
          "execution_count": 47
        }
      ]
    },
    {
      "cell_type": "code",
      "source": [],
      "metadata": {
        "id": "vEHjQGd4uRas"
      },
      "execution_count": null,
      "outputs": []
    },
    {
      "cell_type": "markdown",
      "source": [
        "10.Find the index of the maximum value and the index of the minimum value\n",
        "in a NumPy array."
      ],
      "metadata": {
        "id": "PFCV-v8suS7y"
      }
    },
    {
      "cell_type": "code",
      "source": [
        "arr6=np.arange(0,21)"
      ],
      "metadata": {
        "id": "Mtr00kwnuX8C"
      },
      "execution_count": null,
      "outputs": []
    },
    {
      "cell_type": "code",
      "source": [
        "arr6"
      ],
      "metadata": {
        "colab": {
          "base_uri": "https://localhost:8080/"
        },
        "id": "7z4o9VDDusLq",
        "outputId": "4938eea9-a617-4403-e7a8-fbd03ce525b7"
      },
      "execution_count": null,
      "outputs": [
        {
          "output_type": "execute_result",
          "data": {
            "text/plain": [
              "array([ 0,  1,  2,  3,  4,  5,  6,  7,  8,  9, 10, 11, 12, 13, 14, 15, 16,\n",
              "       17, 18, 19, 20])"
            ]
          },
          "metadata": {},
          "execution_count": 49
        }
      ]
    },
    {
      "cell_type": "code",
      "source": [
        "arr6.reshape(3,7)"
      ],
      "metadata": {
        "colab": {
          "base_uri": "https://localhost:8080/"
        },
        "id": "upQEcyCVutXN",
        "outputId": "a404c1d0-eb6f-46af-c21e-fa7c0bffc40d"
      },
      "execution_count": null,
      "outputs": [
        {
          "output_type": "execute_result",
          "data": {
            "text/plain": [
              "array([[ 0,  1,  2,  3,  4,  5,  6],\n",
              "       [ 7,  8,  9, 10, 11, 12, 13],\n",
              "       [14, 15, 16, 17, 18, 19, 20]])"
            ]
          },
          "metadata": {},
          "execution_count": 51
        }
      ]
    },
    {
      "cell_type": "code",
      "source": [
        "arr6.max()"
      ],
      "metadata": {
        "colab": {
          "base_uri": "https://localhost:8080/"
        },
        "id": "GhLB6Arauyyj",
        "outputId": "36feb24e-6cf4-4b30-a823-bf03578a2377"
      },
      "execution_count": null,
      "outputs": [
        {
          "output_type": "execute_result",
          "data": {
            "text/plain": [
              "20"
            ]
          },
          "metadata": {},
          "execution_count": 55
        }
      ]
    },
    {
      "cell_type": "code",
      "source": [
        "arr6.min()"
      ],
      "metadata": {
        "colab": {
          "base_uri": "https://localhost:8080/"
        },
        "id": "GHqjc93lv5XJ",
        "outputId": "39757a50-5e44-43e8-8f31-cb7ec1cb2d05"
      },
      "execution_count": null,
      "outputs": [
        {
          "output_type": "execute_result",
          "data": {
            "text/plain": [
              "0"
            ]
          },
          "metadata": {},
          "execution_count": 56
        }
      ]
    },
    {
      "cell_type": "markdown",
      "source": [
        "11.Concatenate two random NumPy arrays horizontally and vertically."
      ],
      "metadata": {
        "id": "Acqlj0sMwvU6"
      }
    },
    {
      "cell_type": "code",
      "source": [
        "a=np.zeros((3,3))"
      ],
      "metadata": {
        "id": "km38LjEJwArJ"
      },
      "execution_count": null,
      "outputs": []
    },
    {
      "cell_type": "code",
      "source": [
        "b=np.ones((3,3))"
      ],
      "metadata": {
        "id": "S4Rs27SuwIwo"
      },
      "execution_count": null,
      "outputs": []
    },
    {
      "cell_type": "code",
      "source": [
        "import numpy as np\n",
        "np.concatenate((a,b),axis=1)"
      ],
      "metadata": {
        "colab": {
          "base_uri": "https://localhost:8080/"
        },
        "id": "-bEs9wJ1wg35",
        "outputId": "13356e2e-78d6-4255-aa2e-540c04cd6dab"
      },
      "execution_count": null,
      "outputs": [
        {
          "output_type": "execute_result",
          "data": {
            "text/plain": [
              "array([[0., 0., 0., 1., 1., 1.],\n",
              "       [0., 0., 0., 1., 1., 1.],\n",
              "       [0., 0., 0., 1., 1., 1.]])"
            ]
          },
          "metadata": {},
          "execution_count": 5
        }
      ]
    },
    {
      "cell_type": "code",
      "source": [],
      "metadata": {
        "id": "zo97dqOcw2AZ"
      },
      "execution_count": null,
      "outputs": []
    },
    {
      "cell_type": "markdown",
      "source": [
        "12.Given a 2D NumPy array, calculate the sum of each row and each column\n",
        "separately."
      ],
      "metadata": {
        "id": "o8Cu7J8ISqNe"
      }
    },
    {
      "cell_type": "code",
      "source": [
        "arr = np.array([[1, 2, 3, 4],\n",
        "                [5, 6, 7, 8],\n",
        "                 [9, 10,11,12]])"
      ],
      "metadata": {
        "id": "yop4T44nlfVa"
      },
      "execution_count": null,
      "outputs": []
    },
    {
      "cell_type": "code",
      "source": [
        "np.sum(arr, axis=1)"
      ],
      "metadata": {
        "colab": {
          "base_uri": "https://localhost:8080/"
        },
        "id": "954xJKcDl47B",
        "outputId": "4e233d89-41fd-4c7e-c633-563dda6f89ed"
      },
      "execution_count": null,
      "outputs": [
        {
          "output_type": "execute_result",
          "data": {
            "text/plain": [
              "array([10, 26, 42])"
            ]
          },
          "metadata": {},
          "execution_count": 8
        }
      ]
    },
    {
      "cell_type": "code",
      "source": [
        "np.sum(arr,axis=0)"
      ],
      "metadata": {
        "colab": {
          "base_uri": "https://localhost:8080/"
        },
        "id": "135s3np1mmzS",
        "outputId": "a2a12d04-69d9-47bf-e2ec-1179bc8c6723"
      },
      "execution_count": null,
      "outputs": [
        {
          "output_type": "execute_result",
          "data": {
            "text/plain": [
              "array([15, 18, 21, 24])"
            ]
          },
          "metadata": {},
          "execution_count": 9
        }
      ]
    },
    {
      "cell_type": "markdown",
      "source": [
        "13.Find the common elements between two NumPy arrays."
      ],
      "metadata": {
        "id": "QRiNsDclSyqf"
      }
    },
    {
      "cell_type": "code",
      "source": [
        "arr1=(1,2,5,6,8,9,20)\n",
        "arr2=(4,7,3,10,20,21,15)"
      ],
      "metadata": {
        "id": "HF7Dm0aETCpV"
      },
      "execution_count": null,
      "outputs": []
    },
    {
      "cell_type": "code",
      "source": [
        "np.intersect1d(arr1,arr2)"
      ],
      "metadata": {
        "colab": {
          "base_uri": "https://localhost:8080/"
        },
        "id": "cXvcn3LwpJIP",
        "outputId": "7ad834ac-f1b1-44a5-df86-4909ed838647"
      },
      "execution_count": null,
      "outputs": [
        {
          "output_type": "execute_result",
          "data": {
            "text/plain": [
              "array([20])"
            ]
          },
          "metadata": {},
          "execution_count": 15
        }
      ]
    },
    {
      "cell_type": "markdown",
      "source": [
        "14.Replace all negative values in a NumPy array with zeros"
      ],
      "metadata": {
        "id": "76ZurEY3TAkY"
      }
    },
    {
      "cell_type": "code",
      "source": [
        "arr=(-1,2,3,-4,-5)"
      ],
      "metadata": {
        "id": "ZCgLBb1LnT1k"
      },
      "execution_count": null,
      "outputs": []
    },
    {
      "cell_type": "code",
      "source": [
        "np.where(arr<0,0,arr)"
      ],
      "metadata": {
        "colab": {
          "base_uri": "https://localhost:8080/"
        },
        "id": "if4EeGh0rxYw",
        "outputId": "8d3475b3-79f5-4cf6-aa67-d4e79e37366e"
      },
      "execution_count": null,
      "outputs": [
        {
          "output_type": "execute_result",
          "data": {
            "text/plain": [
              "array([0, 2, 3, 0, 0])"
            ]
          },
          "metadata": {},
          "execution_count": 35
        }
      ]
    },
    {
      "cell_type": "markdown",
      "source": [
        "15.Create a NumPy array with random integers between 1 and 100 and then\n",
        "sort it in ascending order"
      ],
      "metadata": {
        "id": "mMHzB75xTXJA"
      }
    },
    {
      "cell_type": "code",
      "source": [
        "\n",
        "import numpy as np\n",
        "arr=np.random.randint(1,101,size=10)\n",
        "arr.sort()\n",
        "print(arr)"
      ],
      "metadata": {
        "id": "1UfFeuwJrw0J",
        "colab": {
          "base_uri": "https://localhost:8080/"
        },
        "outputId": "4b486007-f40f-424e-a4ec-7453f15f8023"
      },
      "execution_count": null,
      "outputs": [
        {
          "output_type": "stream",
          "name": "stdout",
          "text": [
            "[11 26 47 63 66 69 73 82 85 99]\n"
          ]
        }
      ]
    },
    {
      "cell_type": "markdown",
      "source": [
        "16.Calculate the element-wise absolute difference between two NumPy\n",
        "arrays."
      ],
      "metadata": {
        "id": "SGA7qj0GTY2C"
      }
    },
    {
      "cell_type": "code",
      "source": [
        "\n",
        "import numpy as np\n",
        "arr1=np.array([8,10,19,15])\n",
        "arr2=np.array([6,8,10,12])"
      ],
      "metadata": {
        "id": "8G1G-A3qt6m2"
      },
      "execution_count": null,
      "outputs": []
    },
    {
      "cell_type": "code",
      "source": [
        "abs_diff=np.abs(arr1-arr2)\n",
        "print(abs_diff)"
      ],
      "metadata": {
        "colab": {
          "base_uri": "https://localhost:8080/"
        },
        "id": "NrdlrglvYw1G",
        "outputId": "ea6c6d5d-424e-47f3-910e-adfe36a1b19c"
      },
      "execution_count": null,
      "outputs": [
        {
          "output_type": "stream",
          "name": "stdout",
          "text": [
            "[2 2 9 3]\n"
          ]
        }
      ]
    },
    {
      "cell_type": "markdown",
      "source": [
        "17.Given a 2D NumPy array, extract the first row and the last column"
      ],
      "metadata": {
        "id": "UDpL62GWTnna"
      }
    },
    {
      "cell_type": "code",
      "source": [
        "\n",
        "arr1=np.array([[10, 1, 14, 16, 18, 20],\n",
        "\n",
        "[22,24,26,28,30,32],\n",
        "\n",
        "[34,36,38,40,42,44],\n",
        "\n",
        "[46,48,50,52,54,56],\n",
        "\n",
        "[58,60,62,64,66,68],\n",
        "\n",
        "[70,72,74,76,78,80]])"
      ],
      "metadata": {
        "id": "X5O7WUXAw7jR"
      },
      "execution_count": null,
      "outputs": []
    },
    {
      "cell_type": "code",
      "source": [
        "arr1"
      ],
      "metadata": {
        "colab": {
          "base_uri": "https://localhost:8080/"
        },
        "id": "5oheyyF-xGuT",
        "outputId": "9b0f492d-4ae5-4f12-ab90-7bb440fc9299"
      },
      "execution_count": null,
      "outputs": [
        {
          "output_type": "execute_result",
          "data": {
            "text/plain": [
              "array([[10,  1, 14, 16, 18, 20],\n",
              "       [22, 24, 26, 28, 30, 32],\n",
              "       [34, 36, 38, 40, 42, 44],\n",
              "       [46, 48, 50, 52, 54, 56],\n",
              "       [58, 60, 62, 64, 66, 68],\n",
              "       [70, 72, 74, 76, 78, 80]])"
            ]
          },
          "metadata": {},
          "execution_count": 74
        }
      ]
    },
    {
      "cell_type": "code",
      "source": [
        "arr1[0]"
      ],
      "metadata": {
        "colab": {
          "base_uri": "https://localhost:8080/"
        },
        "id": "eCyIQsULxJgi",
        "outputId": "a9b6067a-17e1-4282-e8ef-46dbb9b9b247"
      },
      "execution_count": null,
      "outputs": [
        {
          "output_type": "execute_result",
          "data": {
            "text/plain": [
              "array([10,  1, 14, 16, 18, 20])"
            ]
          },
          "metadata": {},
          "execution_count": 88
        }
      ]
    },
    {
      "cell_type": "code",
      "source": [
        "arr1[0:,[5]]"
      ],
      "metadata": {
        "colab": {
          "base_uri": "https://localhost:8080/"
        },
        "id": "ICUPkcRsyem8",
        "outputId": "2bc59256-fb56-447c-d55c-fae1173bcf81"
      },
      "execution_count": null,
      "outputs": [
        {
          "output_type": "execute_result",
          "data": {
            "text/plain": [
              "array([[20],\n",
              "       [32],\n",
              "       [44],\n",
              "       [56],\n",
              "       [68],\n",
              "       [80]])"
            ]
          },
          "metadata": {},
          "execution_count": 90
        }
      ]
    },
    {
      "cell_type": "markdown",
      "source": [
        "18.Slice a 1D NumPy array to get every other element."
      ],
      "metadata": {
        "id": "Hyd7HqIhTuLT"
      }
    },
    {
      "cell_type": "code",
      "source": [
        "arr=(20,11,12,21,19,25,23,30,50)"
      ],
      "metadata": {
        "id": "38aPqh8by6sF"
      },
      "execution_count": null,
      "outputs": []
    },
    {
      "cell_type": "code",
      "source": [
        "arr[::2]"
      ],
      "metadata": {
        "colab": {
          "base_uri": "https://localhost:8080/"
        },
        "id": "30LjS7CDzfT3",
        "outputId": "34adc058-5722-419e-a4dd-6a253f4a7c52"
      },
      "execution_count": null,
      "outputs": [
        {
          "output_type": "execute_result",
          "data": {
            "text/plain": [
              "(20, 12, 19, 23, 50)"
            ]
          },
          "metadata": {},
          "execution_count": 95
        }
      ]
    },
    {
      "cell_type": "code",
      "source": [
        "arr[1:5]"
      ],
      "metadata": {
        "colab": {
          "base_uri": "https://localhost:8080/"
        },
        "id": "RmZjwYQ0z3E3",
        "outputId": "2771a785-f132-45b4-9819-a68602b07e42"
      },
      "execution_count": null,
      "outputs": [
        {
          "output_type": "execute_result",
          "data": {
            "text/plain": [
              "(11, 12, 21, 19)"
            ]
          },
          "metadata": {},
          "execution_count": 98
        }
      ]
    },
    {
      "cell_type": "markdown",
      "source": [
        "19.Given a 2D NumPy array, extract a subarray consisting of the central 2x2\n",
        "elements."
      ],
      "metadata": {
        "id": "59_X6sVqT3Sx"
      }
    },
    {
      "cell_type": "code",
      "source": [
        " import numpy as np\n",
        "arr4= np.array([[1, 2, 3, 4],\n",
        " [5, 6, 7, 8],\n",
        " [9, 10, 11, 12],\n",
        " [13, 14, 15, 16]])\n",
        "subarray=arr4[1:3,2:4]\n",
        "print(subarray)"
      ],
      "metadata": {
        "colab": {
          "base_uri": "https://localhost:8080/"
        },
        "id": "nnmYbzRMdF8j",
        "outputId": "1be77783-0cd0-4b0f-f644-3a465dcc51f5"
      },
      "execution_count": null,
      "outputs": [
        {
          "output_type": "stream",
          "name": "stdout",
          "text": [
            "[[ 7  8]\n",
            " [11 12]]\n"
          ]
        }
      ]
    },
    {
      "cell_type": "markdown",
      "source": [
        "20.Reverse a 1D NumPy array using slicing"
      ],
      "metadata": {
        "id": "VuUI1vKwgAul"
      }
    },
    {
      "cell_type": "code",
      "source": [
        "\n",
        "import numpy as np\n",
        "arr= np.array([1, 2, 3, 4, 5])"
      ],
      "metadata": {
        "id": "FZ9_hFc8gCYr"
      },
      "execution_count": null,
      "outputs": []
    },
    {
      "cell_type": "code",
      "source": [
        "reversed_array = arr[::-1]\n",
        "print(reversed_array)"
      ],
      "metadata": {
        "colab": {
          "base_uri": "https://localhost:8080/"
        },
        "id": "RSrQCPC5gV7j",
        "outputId": "dd1c1859-ab84-4016-e673-05dc32628493"
      },
      "execution_count": null,
      "outputs": [
        {
          "output_type": "stream",
          "name": "stdout",
          "text": [
            "[5 4 3 2 1]\n"
          ]
        }
      ]
    }
  ]
}