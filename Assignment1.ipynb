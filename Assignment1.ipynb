{
  "cells": [
    {
      "cell_type": "markdown",
      "metadata": {
        "id": "J2jYise7KZsi"
      },
      "source": [
        "1"
      ]
    },
    {
      "cell_type": "code",
      "execution_count": null,
      "metadata": {
        "colab": {
          "base_uri": "https://localhost:8080/"
        },
        "id": "1w1Urt5mL1C_",
        "outputId": "9ce187b4-5eb6-4677-c70a-bdb766b73de8"
      },
      "outputs": [
        {
          "name": "stdout",
          "output_type": "stream",
          "text": [
            "enter the l of rectangle15\n",
            "enter the b of rectangle4\n",
            "60\n"
          ]
        }
      ],
      "source": [
        "#input function\n",
        "l=int(input('enter the l of rectangle'))\n",
        "b=int(input('enter the b of rectangle'))\n",
        "a=(l*b)\n",
        "print(a)"
      ]
    },
    {
      "cell_type": "markdown",
      "metadata": {
        "id": "emNmTe3bMrHp"
      },
      "source": [
        "2"
      ]
    },
    {
      "cell_type": "code",
      "execution_count": null,
      "metadata": {
        "colab": {
          "base_uri": "https://localhost:8080/"
        },
        "id": "eUpSr21PMuor",
        "outputId": "45e7500b-873d-4349-b155-c3424fc80926"
      },
      "outputs": [
        {
          "name": "stdout",
          "output_type": "stream",
          "text": [
            "enter n1100\n",
            "enter n250\n",
            "150\n",
            "50\n",
            "5000\n",
            "2.0\n"
          ]
        }
      ],
      "source": [
        "#input function\n",
        "n1=int(input('enter n1'))\n",
        "n2=int(input('enter n2'))\n",
        "s=n1+n2\n",
        "d=n1-n2\n",
        "p=n1*n2\n",
        "q=n1/n2\n",
        "print(s)\n",
        "print(d)\n",
        "print(p)\n",
        "print(q)"
      ]
    },
    {
      "cell_type": "markdown",
      "metadata": {
        "id": "59Qa5KgrRzUg"
      },
      "source": [
        "3"
      ]
    },
    {
      "cell_type": "code",
      "execution_count": null,
      "metadata": {
        "id": "UBeWcfLWmroE",
        "colab": {
          "base_uri": "https://localhost:8080/"
        },
        "outputId": "f40a67bf-36ad-4fa4-d89d-ef6291c6f24b"
      },
      "outputs": [
        {
          "output_type": "stream",
          "name": "stdout",
          "text": [
            " enter a number50\n",
            "10.0\n"
          ]
        }
      ],
      "source": [
        "F=float(input(' enter a number'))\n",
        "C=(F-32)*5/9\n",
        "print(C)"
      ]
    },
    {
      "cell_type": "code",
      "source": [
        "\n",
        "C=float(input('enter a number '))\n",
        "F=(C*9/5)+32\n",
        "print(F)"
      ],
      "metadata": {
        "id": "7p0X3AKASMj_",
        "colab": {
          "base_uri": "https://localhost:8080/"
        },
        "outputId": "02df5e4b-e184-46ed-ee95-dc3ef3947b5e"
      },
      "execution_count": null,
      "outputs": [
        {
          "output_type": "stream",
          "name": "stdout",
          "text": [
            "enter a number 30\n",
            "86.0\n"
          ]
        }
      ]
    },
    {
      "cell_type": "markdown",
      "metadata": {
        "id": "BKsSS_-0pGFp"
      },
      "source": [
        "4"
      ]
    },
    {
      "cell_type": "code",
      "execution_count": null,
      "metadata": {
        "colab": {
          "base_uri": "https://localhost:8080/"
        },
        "id": "4CCHm0NXpHd7",
        "outputId": "642e0172-cb51-4429-89bf-05addd251933"
      },
      "outputs": [
        {
          "name": "stdout",
          "output_type": "stream",
          "text": [
            "enter a number-20\n",
            "numb is negative\n"
          ]
        }
      ],
      "source": [
        "numb=int(input(\"enter a number\"))\n",
        "if numb>0:\n",
        "  print(\"numb is positive\")\n",
        "elif numb<0:\n",
        "  print(\"numb is negative\")\n",
        "else:\n",
        "  print(\"invalid\")"
      ]
    },
    {
      "cell_type": "markdown",
      "metadata": {
        "id": "1SI-5ZP2qt7x"
      },
      "source": [
        "5"
      ]
    },
    {
      "cell_type": "code",
      "execution_count": null,
      "metadata": {
        "id": "tTwGuJJg658Y",
        "colab": {
          "base_uri": "https://localhost:8080/"
        },
        "outputId": "1fc92f27-992d-4f50-a5a6-3762786edfeb"
      },
      "outputs": [
        {
          "output_type": "stream",
          "name": "stdout",
          "text": [
            "enter the year2004\n",
            "it's a leap year\n"
          ]
        }
      ],
      "source": [
        "y=int(input ('enter the year'))\n",
        "if y%4==0:\n",
        "  print(\"it's a leap year\")\n",
        "elif y%4!=0:\n",
        "  print(\"it's not a leap year\")\n",
        "elif y%400==0:\n",
        "  print (\"it's a leap year\")\n",
        "elif y%400!=0:\n",
        "  print (\"it's not a leap year\")"
      ]
    },
    {
      "cell_type": "markdown",
      "metadata": {
        "id": "iPBVrZd5tuTS"
      },
      "source": [
        "6"
      ]
    },
    {
      "cell_type": "code",
      "execution_count": null,
      "metadata": {
        "colab": {
          "base_uri": "https://localhost:8080/"
        },
        "id": "At_pcZGJyloL",
        "outputId": "5b9b8efe-f33f-4f83-a59f-660b7a6e7f93"
      },
      "outputs": [
        {
          "name": "stdout",
          "output_type": "stream",
          "text": [
            "enter mark94\n",
            "A\n"
          ]
        }
      ],
      "source": [
        "mark=int(input(\"enter mark\"))\n",
        "if mark>89:\n",
        "  print(\"A\")\n",
        "elif mark>79:\n",
        "  print (\"B\")\n",
        "elif mark>69:\n",
        "  print(\"C\")\n",
        "elif mark>59:\n",
        "  print(\"D\")\n",
        "elif mark<59:\n",
        "  print(\"F\")\n",
        "else:\n",
        "  print(\"invalid\")"
      ]
    },
    {
      "cell_type": "markdown",
      "metadata": {
        "id": "miHLE0mTzH7C"
      },
      "source": [
        "7"
      ]
    },
    {
      "cell_type": "code",
      "execution_count": null,
      "metadata": {
        "colab": {
          "base_uri": "https://localhost:8080/"
        },
        "id": "eZ3msJcv0BaB",
        "outputId": "38b89ef3-5452-42b3-9f35-5f084bb03df4"
      },
      "outputs": [
        {
          "name": "stdout",
          "output_type": "stream",
          "text": [
            "10\n",
            "9\n",
            "8\n",
            "7\n",
            "6\n",
            "5\n",
            "4\n",
            "3\n",
            "2\n",
            "1\n"
          ]
        }
      ],
      "source": [
        "for num in range(10,0,-1):\n",
        "  print(num)"
      ]
    },
    {
      "cell_type": "markdown",
      "metadata": {
        "id": "HGyqZaey1PAF"
      },
      "source": [
        "8"
      ]
    },
    {
      "cell_type": "code",
      "execution_count": null,
      "metadata": {
        "colab": {
          "base_uri": "https://localhost:8080/"
        },
        "id": "_MVnUquo2Cw0",
        "outputId": "7b498ed4-942b-4452-e285-0f9a6b979b4a"
      },
      "outputs": [
        {
          "name": "stdout",
          "output_type": "stream",
          "text": [
            "0\n",
            "2\n",
            "4\n",
            "6\n",
            "8\n",
            "10\n",
            "12\n",
            "14\n",
            "16\n",
            "18\n"
          ]
        }
      ],
      "source": [
        "for num in range(0,20,2):\n",
        "  print(num)"
      ]
    },
    {
      "cell_type": "markdown",
      "source": [
        "9"
      ],
      "metadata": {
        "id": "rD0AoNN2GYm1"
      }
    },
    {
      "cell_type": "code",
      "source": [
        "num=int(input(\"Enter the number\"))\n",
        "\n",
        "for i in range(1,11):\n",
        "  print(num,\"x\",i,\"=\",num*i)"
      ],
      "metadata": {
        "colab": {
          "base_uri": "https://localhost:8080/"
        },
        "id": "xrxHv1zgWcLB",
        "outputId": "7619e54a-b8d3-4a6b-918e-4bcf9e016847"
      },
      "execution_count": null,
      "outputs": [
        {
          "output_type": "stream",
          "name": "stdout",
          "text": [
            "Enter the number5\n",
            "5 x 1 = 5\n",
            "5 x 2 = 10\n",
            "5 x 3 = 15\n",
            "5 x 4 = 20\n",
            "5 x 5 = 25\n",
            "5 x 6 = 30\n",
            "5 x 7 = 35\n",
            "5 x 8 = 40\n",
            "5 x 9 = 45\n",
            "5 x 10 = 50\n"
          ]
        }
      ]
    }
  ],
  "metadata": {
    "colab": {
      "provenance": []
    },
    "kernelspec": {
      "display_name": "Python 3",
      "name": "python3"
    },
    "language_info": {
      "name": "python"
    }
  },
  "nbformat": 4,
  "nbformat_minor": 0
}