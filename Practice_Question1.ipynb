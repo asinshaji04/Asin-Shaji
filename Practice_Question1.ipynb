{
  "nbformat": 4,
  "nbformat_minor": 0,
  "metadata": {
    "colab": {
      "provenance": []
    },
    "kernelspec": {
      "name": "python3",
      "display_name": "Python 3"
    },
    "language_info": {
      "name": "python"
    }
  },
  "cells": [
    {
      "cell_type": "code",
      "execution_count": null,
      "metadata": {
        "id": "B7U6xTV4jWlZ",
        "colab": {
          "base_uri": "https://localhost:8080/"
        },
        "outputId": "a851d5da-9e67-4572-e209-52426631134d"
      },
      "outputs": [
        {
          "output_type": "stream",
          "name": "stdout",
          "text": [
            "enter first number50\n",
            "enter second number200\n",
            "250\n"
          ]
        }
      ],
      "source": [
        "#input funtions\n",
        "a=int(input('enter first number'))\n",
        "b=int(input('enter second number'))\n",
        "s=a+b\n",
        "print(s)\n"
      ]
    },
    {
      "cell_type": "markdown",
      "source": [
        "2"
      ],
      "metadata": {
        "id": "wNY6tBe8Xi6c"
      }
    },
    {
      "cell_type": "code",
      "source": [
        "a=int(input('enter first number'))\n",
        "b=int(input('enter second number'))\n",
        "s=a*b\n",
        "print(s)"
      ],
      "metadata": {
        "id": "wPEvwxq1j1zA",
        "colab": {
          "base_uri": "https://localhost:8080/"
        },
        "outputId": "ff6e2f39-639c-4928-ee01-df3204fe8915"
      },
      "execution_count": null,
      "outputs": [
        {
          "output_type": "stream",
          "name": "stdout",
          "text": [
            "enter first number20\n",
            "enter second number10\n",
            "200\n"
          ]
        }
      ]
    },
    {
      "cell_type": "markdown",
      "source": [
        "3"
      ],
      "metadata": {
        "id": "b8pwhxMbViy8"
      }
    },
    {
      "cell_type": "code",
      "source": [
        "\n",
        "a=int(input(\"enter first number\"))\n",
        "b=int(input(\"enter second number\"))\n",
        "q=a/b\n",
        "r=a%b\n",
        "print(q)\n",
        "print(r)"
      ],
      "metadata": {
        "id": "EbeL3_2RC0Bh",
        "colab": {
          "base_uri": "https://localhost:8080/"
        },
        "outputId": "55bf1a80-40ae-4459-9c6c-eaf3ee321571"
      },
      "execution_count": null,
      "outputs": [
        {
          "output_type": "stream",
          "name": "stdout",
          "text": [
            "enter first number20\n",
            "enter second number5\n",
            "4.0\n",
            "0\n"
          ]
        }
      ]
    },
    {
      "cell_type": "markdown",
      "source": [
        "4"
      ],
      "metadata": {
        "id": "Mjk1BaMfXyKJ"
      }
    },
    {
      "cell_type": "code",
      "source": [
        "s=\"Asin\"\n",
        "len(s)"
      ],
      "metadata": {
        "colab": {
          "base_uri": "https://localhost:8080/"
        },
        "id": "3JYFJsAUYbji",
        "outputId": "5dc88d55-db3d-44f3-aec7-0a78f10239bf"
      },
      "execution_count": null,
      "outputs": [
        {
          "output_type": "execute_result",
          "data": {
            "text/plain": [
              "4"
            ]
          },
          "metadata": {},
          "execution_count": 5
        }
      ]
    },
    {
      "cell_type": "markdown",
      "source": [
        "5"
      ],
      "metadata": {
        "id": "hNcSzDQbZUxa"
      }
    },
    {
      "cell_type": "code",
      "source": [
        "string=input(\"enter a string\")\n",
        "character=input(\"enter a character\")\n",
        "count=0\n",
        "for char in string:\n",
        "  if char==character:\n",
        "      count+=1\n",
        "print(\"The character\",character ,\"occurs\",count,\"times in the string\" )"
      ],
      "metadata": {
        "id": "kEnVlNyvlReu",
        "colab": {
          "base_uri": "https://localhost:8080/"
        },
        "outputId": "77976b22-cc5b-4e73-fe31-ed6b19ddf887"
      },
      "execution_count": 9,
      "outputs": [
        {
          "output_type": "stream",
          "name": "stdout",
          "text": [
            "enter a stringsreenanadhana\n",
            "enter a charactern\n",
            "The character n occurs 3 times in the string\n"
          ]
        }
      ]
    },
    {
      "cell_type": "markdown",
      "source": [
        "6"
      ],
      "metadata": {
        "id": "nt-Wo2oDDF6n"
      }
    },
    {
      "cell_type": "code",
      "source": [
        "s1=\"elephant\"\n",
        "s1.upper()"
      ],
      "metadata": {
        "id": "GAL3tpTomEp9",
        "colab": {
          "base_uri": "https://localhost:8080/",
          "height": 35
        },
        "outputId": "e7d9e59b-bb83-45c1-c72d-877b1a154b97"
      },
      "execution_count": null,
      "outputs": [
        {
          "output_type": "execute_result",
          "data": {
            "text/plain": [
              "'ELEPHANT'"
            ],
            "application/vnd.google.colaboratory.intrinsic+json": {
              "type": "string"
            }
          },
          "metadata": {},
          "execution_count": 13
        }
      ]
    },
    {
      "cell_type": "code",
      "source": [
        "s1.upper()"
      ],
      "metadata": {
        "colab": {
          "base_uri": "https://localhost:8080/",
          "height": 35
        },
        "id": "y2JtbqsgcL8b",
        "outputId": "2f53c64d-977a-46a0-aaff-edd6876745b8"
      },
      "execution_count": null,
      "outputs": [
        {
          "output_type": "execute_result",
          "data": {
            "text/plain": [
              "'ELEPHANT'"
            ],
            "application/vnd.google.colaboratory.intrinsic+json": {
              "type": "string"
            }
          },
          "metadata": {},
          "execution_count": 14
        }
      ]
    },
    {
      "cell_type": "code",
      "source": [
        "s1.lower()"
      ],
      "metadata": {
        "colab": {
          "base_uri": "https://localhost:8080/",
          "height": 35
        },
        "id": "iFON92Cpcck_",
        "outputId": "2d0d0259-d8bd-4565-b306-0374cd4b5525"
      },
      "execution_count": null,
      "outputs": [
        {
          "output_type": "execute_result",
          "data": {
            "text/plain": [
              "'elephant'"
            ],
            "application/vnd.google.colaboratory.intrinsic+json": {
              "type": "string"
            }
          },
          "metadata": {},
          "execution_count": 15
        }
      ]
    }
  ]
}